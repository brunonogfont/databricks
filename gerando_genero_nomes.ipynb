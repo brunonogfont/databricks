{
 "cells": [
  {
   "cell_type": "code",
   "execution_count": 0,
   "metadata": {
    "application/vnd.databricks.v1+cell": {
     "cellMetadata": {
      "byteLimit": 2048000,
      "rowLimit": 10000
     },
     "inputWidgets": {},
     "nuid": "38b371b0-3aca-4ec9-ba4f-19825ba31cff",
     "showTitle": false,
     "tableResultSettingsMap": {},
     "title": ""
    }
   },
   "outputs": [],
   "source": [
    "import requests\n",
    "from pyspark.sql.functions import col, asc,desc\n",
    "import time\n",
    "\n",
    "url_base = 'https://brasil.io/api/v1/dataset/genero-nomes/grupos/data/?format=json'\n",
    "TOKEN = \"xxxxxxxxx\"\n",
    "headers = {\n",
    "    \"Authorization\": f\"Token {TOKEN}\"\n",
    "}\n",
    "\n",
    "resposta = requests.get(url_base, headers=headers).json()\n",
    "resultados = resposta['results']\n",
    "quantidade = resposta['count']\n",
    "qtd_linhas = len(resultados)\n",
    "total_paginas = int((quantidade + qtd_linhas - 1) / qtd_linhas)\n"
   ]
  },
  {
   "cell_type": "code",
   "execution_count": 0,
   "metadata": {
    "application/vnd.databricks.v1+cell": {
     "cellMetadata": {
      "byteLimit": 2048000,
      "rowLimit": 10000
     },
     "inputWidgets": {},
     "nuid": "e06e7718-fdcf-4ca4-a2e4-dc62a69bc260",
     "showTitle": false,
     "tableResultSettingsMap": {},
     "title": ""
    }
   },
   "outputs": [
    {
     "name": "stdout",
     "output_type": "stream",
     "text": [
      "Dados da página 20 capturados\n",
      "Dados da página 21 capturados\n",
      "Dados da página 22 capturados\n",
      "Dados da página 23 capturados\n",
      "Dados da página 24 capturados\n",
      "Dados da página 25 capturados\n",
      "Dados da página 26 capturados\n",
      "Dados da página 27 capturados\n",
      "Dados da página 28 capturados\n",
      "Dados da página 29 capturados\n",
      "Dados da página 30 capturados\n",
      "Dados da página 31 capturados\n",
      "Dados da página 32 capturados\n",
      "Dados da página 33 capturados\n",
      "Dados da página 34 capturados\n",
      "Dados da página 35 capturados\n",
      "Dados da página 36 capturados\n",
      "Dados da página 37 capturados\n",
      "Dados da página 38 capturados\n",
      "Dados da página 39 capturados\n",
      "Dados da página 40 capturados\n",
      "Dados da página 41 capturados\n",
      "Dados da página 42 capturados\n",
      "Dados da página 43 capturados\n",
      "Dados da página 44 capturados\n",
      "Dados da página 45 capturados\n",
      "Dados da página 46 capturados\n",
      "Dados da página 47 capturados\n",
      "Dados da página 48 capturados\n",
      "Dados da página 49 capturados\n",
      "Dados da página 50 capturados\n"
     ]
    }
   ],
   "source": [
    "for x in range(2, total_paginas + 1):\n",
    "    url_paginada = f'{url_base}&page={x}'\n",
    "    try:\n",
    "        resposta = requests.get(url_paginada, headers=headers).json()\n",
    "        novos_resultados = resposta['results']\n",
    "        resultados.extend(novos_resultados)\n",
    "        time.sleep(2)\n",
    "        print(f\"Dados da página {x} capturados\") \n",
    "    except Exception as e:\n",
    "        print(f'Erro, pagina -> {x}: {e}')\n",
    "        break\n",
    "\n",
    "\n"
   ]
  },
  {
   "cell_type": "code",
   "execution_count": 0,
   "metadata": {
    "application/vnd.databricks.v1+cell": {
     "cellMetadata": {
      "byteLimit": 2048000,
      "rowLimit": 10000
     },
     "inputWidgets": {},
     "nuid": "b3fea9f4-478d-46ab-b003-d0871803f579",
     "showTitle": false,
     "tableResultSettingsMap": {},
     "title": ""
    }
   },
   "outputs": [],
   "source": [
    "df_nomes = spark.createDataFrame(resultados)\n",
    "\n"
   ]
  },
  {
   "cell_type": "code",
   "execution_count": 0,
   "metadata": {
    "application/vnd.databricks.v1+cell": {
     "cellMetadata": {
      "byteLimit": 2048000,
      "rowLimit": 10000
     },
     "inputWidgets": {},
     "nuid": "d3fef27f-7c04-4e35-a574-4ae702c637f2",
     "showTitle": false,
     "tableResultSettingsMap": {},
     "title": ""
    }
   },
   "outputs": [
    {
     "name": "stdout",
     "output_type": "stream",
     "text": [
      "Out[11]: DataFrame[genero: string, feminino: bigint, masculino: bigint, quantidade: bigint, nome: string, percentual_indice: string]"
     ]
    }
   ],
   "source": [
    "df_nomes_tratados = df_nomes.withColumnRenamed(\"classification\",\"genero\")\\\n",
    "                   .withColumnRenamed(\"frequency_female\",\"feminino\")\\\n",
    "                   .withColumnRenamed(\"frequency_male\",\"masculino\")\\\n",
    "                   .withColumnRenamed(\"frequency_total\",\"quantidade\")\\\n",
    "                   .withColumnRenamed(\"name\",\"nome\")\\\n",
    "                   .withColumnRenamed(\"ratio\",\"percentual_indice\")\n",
    "df_nomes_tratados.drop('names')\n"
   ]
  },
  {
   "cell_type": "code",
   "execution_count": 0,
   "metadata": {
    "application/vnd.databricks.v1+cell": {
     "cellMetadata": {
      "byteLimit": 2048000,
      "rowLimit": 10000
     },
     "inputWidgets": {},
     "nuid": "52c3b74c-450d-404e-968b-10aa7d18ffaa",
     "showTitle": false,
     "tableResultSettingsMap": {},
     "title": ""
    }
   },
   "outputs": [],
   "source": [
    "\n",
    "\n",
    "\n",
    "df_nomes_ordenados = df_nomes_tratados.orderBy(col(\"quantidade\").desc(),col(\"nome\").desc())\n",
    "df_nomes_ordenados = df_nomes_ordenados.drop('names')\n",
    "\n"
   ]
  },
  {
   "cell_type": "code",
   "execution_count": 0,
   "metadata": {
    "application/vnd.databricks.v1+cell": {
     "cellMetadata": {
      "byteLimit": 2048000,
      "rowLimit": 10000
     },
     "inputWidgets": {},
     "nuid": "42664861-e5af-4cb5-89e9-5289856b72ec",
     "showTitle": false,
     "tableResultSettingsMap": {},
     "title": ""
    }
   },
   "outputs": [],
   "source": [
    "\n",
    "df_nomes_ordenados.write.format(\"delta\").mode(\"overwrite\").save(\"/dbfs/tmp/classificacao_nomes_delta\")"
   ]
  }
 ],
 "metadata": {
  "application/vnd.databricks.v1+notebook": {
   "computePreferences": null,
   "dashboards": [],
   "environmentMetadata": {
    "base_environment": "",
    "environment_version": "1"
   },
   "inputWidgetPreferences": null,
   "language": "python",
   "notebookMetadata": {
    "mostRecentlyExecutedCommandWithImplicitDF": {
     "commandId": 3337153647227004,
     "dataframes": [
      "_sqldf"
     ]
    },
    "pythonIndentUnit": 4
   },
   "notebookName": "Gerando Tabela Classificacao Nomes",
   "widgets": {}
  },
  "language_info": {
   "name": "python"
  }
 },
 "nbformat": 4,
 "nbformat_minor": 0
}
